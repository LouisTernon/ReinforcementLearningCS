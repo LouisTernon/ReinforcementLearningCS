{
 "cells": [
  {
   "cell_type": "markdown",
   "metadata": {},
   "source": [
    "**You may need to install [OpenCV](https://pypi.python.org/pypi/opencv-python) and [scikit-video](http://www.scikit-video.org/stable/).**"
   ]
  },
  {
   "cell_type": "code",
   "execution_count": 3,
   "metadata": {},
   "outputs": [],
   "source": [
    "import keras\n",
    "import numpy as np\n",
    "import io\n",
    "import base64\n",
    "from IPython.display import HTML\n",
    "import skvideo\n",
    "import skvideo.io\n",
    "import cv2\n",
    "import json\n",
    "\n",
    "\n",
    "from keras.models import Sequential,model_from_json, Model\n",
    "from keras.layers import Input, Flatten\n",
    "from keras.layers.core import Dense\n",
    "from keras.optimizers import sgd, adam\n",
    "from keras.layers import Conv2D, MaxPooling2D, Activation, AveragePooling2D,Reshape,BatchNormalization"
   ]
  },
  {
   "cell_type": "markdown",
   "metadata": {},
   "source": [
    "# MiniProject on Deep Reinforcement Learning"
   ]
  },
  {
   "cell_type": "markdown",
   "metadata": {},
   "source": [
    "__Notations__: $E_p$ is the expectation under probability $p$. Please justify each of your answer and widely comment your code."
   ]
  },
  {
   "cell_type": "markdown",
   "metadata": {},
   "source": [
    "# Context"
   ]
  },
  {
   "cell_type": "markdown",
   "metadata": {},
   "source": [
    "In a reinforcement learning algorithm, we modelize each step $t$ as an action $a_t$ obtained from a state $s_t$, i.e. $\\{(a_{t},s_{t})_{t\\leq T}\\}$ having the Markov property. We consider a discount factor $\\gamma \\in [0,1]$ that ensures convergence. The goal is to find among all the policies $\\pi$, one that maximizes the expected reward:\n",
    "\n",
    "\\begin{equation*}\n",
    "R(\\pi)=\\sum_{t\\leq T}E_{p^{\\pi}}[\\gamma^t r(s_{t},a_{t})] \\> ,\n",
    "\\end{equation*}\n",
    "\n",
    "where: \n",
    "\\begin{equation*}p^{\\pi}(a_{0},a_{1},s_{1},...,a_{T},s_{T})=p(a_{0})\\prod_{t=1}^{T}\\pi(a_{t}|s_{t})p(s_{t+1}|s_{t},a_{t}) \\> .\n",
    "\\end{equation*}\n",
    "\n",
    "We note the $Q$-function:\n",
    "\n",
    "\\begin{equation*}Q^\\pi(s,a)=E_{p^{\\pi}}[\\sum_{t\\leq T}\\gamma^{t}r(s_{t},a_{t})|s_{0}=s,a_{0}=a] \\> .\n",
    "\\end{equation*}\n",
    "\n",
    "Thus, the optimal Q function is:\n",
    "\\begin{equation*}\n",
    "Q^*(s,a)=\\max_{\\pi}Q^\\pi(s,a) \\> .\n",
    "\\end{equation*}\n",
    "\n",
    "In this project, we will apply the deep reinforcement learning techniques to a simple game: an agent will have to learn from scratch a policy that will permit it maximizing a reward."
   ]
  },
  {
   "cell_type": "markdown",
   "metadata": {},
   "source": [
    "## The environment, the agent and the game"
   ]
  },
  {
   "cell_type": "markdown",
   "metadata": {},
   "source": [
    "### The environment"
   ]
  },
  {
   "cell_type": "markdown",
   "metadata": {},
   "source": [
    "```Environment``` is an abstract class that represents the states, rewards, and actions to obtain the new state."
   ]
  },
  {
   "cell_type": "code",
   "execution_count": 4,
   "metadata": {},
   "outputs": [],
   "source": [
    "class Environment(object):\n",
    "    def __init__(self):\n",
    "        pass\n",
    "\n",
    "    def act(self, act):\n",
    "        \"\"\"\n",
    "        One can act on the environment and obtain its reaction:\n",
    "        - the new state\n",
    "        - the reward of the new state\n",
    "        - should we continue the game?\n",
    "\n",
    "        :return: state, reward, game_over\n",
    "        \"\"\"\n",
    "        pass\n",
    "\n",
    "\n",
    "    def reset(self):\n",
    "        \"\"\"\n",
    "        Reinitialize the environment to a random state and returns\n",
    "        the original state\n",
    "\n",
    "        :return: state\n",
    "        \"\"\"\n",
    "        pass\n",
    "    \n",
    "    def draw(self):\n",
    "        \"\"\"\n",
    "        Visualize in the console or graphically the current state\n",
    "        \"\"\"\n",
    "        pass"
   ]
  },
  {
   "cell_type": "markdown",
   "metadata": {},
   "source": [
    "The method ```act``` allows to act on the environment at a given state $s_t$ (stored internally), via action $a_t$. The method will return the new state $s_{t+1}$, the reward $r(s_{t},a_{t})$ and determines if $t\\leq T$ (*game_over*).\n",
    "\n",
    "The method ```reset``` simply reinitializes the environment to a random state $s_0$.\n",
    "\n",
    "The method ```draw``` displays the current state $s_t$ (this is useful to check the behavior of the Agent).\n",
    "\n",
    "We modelize $s_t$ as a tensor, while $a_t$ is an integer."
   ]
  },
  {
   "cell_type": "markdown",
   "metadata": {},
   "source": [
    "### The Agent"
   ]
  },
  {
   "cell_type": "markdown",
   "metadata": {},
   "source": [
    "The goal of the ```Agent``` is to interact with the ```Environment``` by proposing actions $a_t$ obtained from a given state $s_t$ to attempt to maximize its __reward__ $r(s_t,a_t)$. We propose the following abstract class:"
   ]
  },
  {
   "cell_type": "code",
   "execution_count": 5,
   "metadata": {},
   "outputs": [],
   "source": [
    "class Agent(object):\n",
    "    def __init__(self, epsilon=0.1, n_action=4):\n",
    "        self.epsilon = epsilon\n",
    "        self.n_action = n_action\n",
    "    \n",
    "    def set_epsilon(self,e):\n",
    "        self.epsilon = e\n",
    "\n",
    "    def act(self,s,train=True):\n",
    "        \"\"\" This function should return the next action to do:\n",
    "        an integer between 0 and 4 (not included) with a random exploration of epsilon\"\"\"\n",
    "        if train:\n",
    "            if np.random.rand() <= self.epsilon:\n",
    "                a = np.random.randint(0, self.n_action, size=1)[0]\n",
    "            else:\n",
    "                a = self.learned_act(s)\n",
    "        else: # in some cases, this can improve the performance.. remove it if poor performances\n",
    "            a = self.learned_act(s)\n",
    "            \n",
    "        return a\n",
    "\n",
    "    def learned_act(self,s):\n",
    "        \"\"\" Act via the policy of the agent, from a given state s\n",
    "        it proposes an action a\"\"\"\n",
    "        pass\n",
    "\n",
    "    def reinforce(self, s, n_s, a, r, game_over_):\n",
    "        \"\"\" This function is the core of the learning algorithm. \n",
    "        It takes as an input the current state s_, the next state n_s_\n",
    "        the action a_ used to move from s_ to n_s_ and the reward r_.\n",
    "        \n",
    "        Its goal is to learn a policy.\n",
    "        \"\"\"\n",
    "        pass\n",
    "\n",
    "    def save(self):\n",
    "        \"\"\" This function returns basic stats if applicable: the\n",
    "        loss and/or the model\"\"\"\n",
    "        pass\n",
    "\n",
    "    def load(self):\n",
    "        \"\"\" This function allows to restore a model\"\"\"\n",
    "        pass"
   ]
  },
  {
   "cell_type": "markdown",
   "metadata": {},
   "source": [
    "***\n",
    "__Question 1__:\n",
    "Explain the function act. Why is ```epsilon``` essential?"
   ]
  },
  {
   "cell_type": "markdown",
   "metadata": {},
   "source": [
    "During the training, ```epsilon``` sets the probability of having the agent explore an action instead of exploiting what it has learnt. This is tantamount to the learning rate for optimizers. An important ```epsilon``` can enable the agent to learn the right action faster. But it is also more likely to make it go backward "
   ]
  },
  {
   "cell_type": "markdown",
   "metadata": {},
   "source": [
    "***\n",
    "### The Game"
   ]
  },
  {
   "cell_type": "markdown",
   "metadata": {},
   "source": [
    "The ```Agent``` and the ```Environment``` work in an interlaced way as in the following (take some time to understand this code as it is the core of the project)\n",
    "\n",
    "```python\n",
    "\n",
    "epoch = 300\n",
    "env = Environment()\n",
    "agent = Agent()\n",
    "\n",
    "\n",
    "# Number of won games\n",
    "score = 0\n",
    "loss = 0\n",
    "\n",
    "\n",
    "for e in range(epoch):\n",
    "    # At each epoch, we restart to a fresh game and get the initial state\n",
    "    state = env.reset()\n",
    "    # This assumes that the games will end\n",
    "    game_over = False\n",
    "\n",
    "    win = 0\n",
    "    lose = 0\n",
    "    \n",
    "    while not game_over:\n",
    "        # The agent performs an action\n",
    "        action = agent.act(state)\n",
    "\n",
    "        # Apply an action to the environment, get the next state, the reward\n",
    "        # and if the games end\n",
    "        prev_state = state\n",
    "        state, reward, game_over = env.act(action)\n",
    "\n",
    "        # Update the counters\n",
    "        if reward > 0:\n",
    "            win = win + reward\n",
    "        if reward < 0:\n",
    "            lose = lose -reward\n",
    "\n",
    "        # Apply the reinforcement strategy\n",
    "        loss = agent.reinforce(prev_state, state,  action, reward, game_over)\n",
    "\n",
    "    # Save as a mp4\n",
    "    if e % 10 == 0:\n",
    "        env.draw(e)\n",
    "\n",
    "    # Update stats\n",
    "    score += win-lose\n",
    "\n",
    "    print(\"Epoch {:03d}/{:03d} | Loss {:.4f} | Win/lose count {}/{} ({})\"\n",
    "          .format(e, epoch, loss, win, lose, win-lose))\n",
    "    agent.save()\n",
    "```"
   ]
  },
  {
   "cell_type": "markdown",
   "metadata": {},
   "source": [
    "# The game, *eat cheese*"
   ]
  },
  {
   "cell_type": "markdown",
   "metadata": {},
   "source": [
    "A rat runs on an island and tries to eat as much as possible. The island is subdivided into $N\\times N$ cells, in which there are cheese (+0.5) and poisonous cells (-1). The rat has a visibility of 2 cells (thus it can see $5^2$ cells). The rat is given a time $T$ to accumulate as much food as possible. It can perform 4 actions: going up, down, left, right. \n",
    "\n",
    "The goal is to code an agent to solve this task that will learn by trial and error. We propose the following environment:"
   ]
  },
  {
   "cell_type": "code",
   "execution_count": 6,
   "metadata": {},
   "outputs": [],
   "source": [
    "class Environment(object):\n",
    "    def __init__(self, grid_size=10, max_time=500, temperature=0.1):\n",
    "        grid_size = grid_size+4\n",
    "        self.grid_size = grid_size\n",
    "        self.max_time = max_time\n",
    "        self.temperature = temperature\n",
    "\n",
    "        #board on which one plays\n",
    "        self.board = np.zeros((grid_size,grid_size))\n",
    "        self.position = np.zeros((grid_size,grid_size))\n",
    "\n",
    "        # coordinate of the cat\n",
    "        self.x = 0\n",
    "        self.y = 1\n",
    "\n",
    "        # self time\n",
    "        self.t = 0\n",
    "\n",
    "        self.scale=16\n",
    "\n",
    "        self.to_draw = np.zeros((max_time+2, grid_size*self.scale, grid_size*self.scale, 3))\n",
    "\n",
    "\n",
    "    def draw(self,e):\n",
    "        skvideo.io.vwrite(str(e) + '.mp4', self.to_draw)\n",
    "\n",
    "    def get_frame(self,t):\n",
    "        b = np.zeros((self.grid_size,self.grid_size,3))+128\n",
    "        b[self.board>0,0] = 256\n",
    "        b[self.board < 0, 2] = 256\n",
    "        b[self.x,self.y,:]=256\n",
    "        b[-2:,:,:]=0\n",
    "        b[:,-2:,:]=0\n",
    "        b[:2,:,:]=0\n",
    "        b[:,:2,:]=0\n",
    "        \n",
    "        b =  cv2.resize(b, None, fx=self.scale, fy=self.scale, interpolation=cv2.INTER_NEAREST)\n",
    "\n",
    "        self.to_draw[t,:,:,:]=b\n",
    "\n",
    "\n",
    "    def act(self, action):\n",
    "        \"\"\"This function returns the new state, reward and decides if the\n",
    "        game ends.\"\"\"\n",
    "\n",
    "        self.get_frame(int(self.t))\n",
    "\n",
    "        self.position = np.zeros((self.grid_size, self.grid_size))\n",
    "\n",
    "        '''Met un bord de -1 sur la bordure de la matrice avec une epaisseur de 2. \n",
    "        On met un padding de 2 car le rat a une visibilité de deux cellules'''\n",
    "        self.position[0:2,:]= -1\n",
    "        self.position[:,0:2] = -1\n",
    "        self.position[-2:, :] = -1\n",
    "        self.position[-2:, :] = -1\n",
    "\n",
    "        self.position[self.x, self.y] = 1\n",
    "        if action == 0:\n",
    "            if self.x == self.grid_size-3:\n",
    "                self.x = self.x-1\n",
    "            else:\n",
    "                self.x = self.x + 1\n",
    "        elif action == 1:\n",
    "            if self.x == 2:\n",
    "                self.x = self.x+1\n",
    "            else:\n",
    "                self.x = self.x-1\n",
    "        elif action == 2:\n",
    "            if self.y == self.grid_size - 3:\n",
    "                self.y = self.y - 1\n",
    "            else:\n",
    "                self.y = self.y + 1\n",
    "        elif action == 3:\n",
    "            if self.y == 2:\n",
    "                self.y = self.y + 1\n",
    "            else:\n",
    "                self.y = self.y - 1\n",
    "        else:\n",
    "            RuntimeError('Error: action not recognized')\n",
    "\n",
    "        self.t = self.t + 1\n",
    "        reward = self.board[self.x, self.y]\n",
    "        self.board[self.x, self.y] = 0\n",
    "        game_over = self.t > self.max_time\n",
    "        state = np.concatenate((self.board.reshape(self.grid_size, self.grid_size,1),\n",
    "                        self.position.reshape(self.grid_size, self.grid_size,1)),axis=2)\n",
    "        state = state[self.x-2:self.x+3,self.y-2:self.y+3,:]\n",
    "\n",
    "        return state, reward, game_over\n",
    "\n",
    "    def reset(self):\n",
    "        \"\"\"This function resets the game and returns the initial state\"\"\"\n",
    "\n",
    "        self.x = np.random.randint(3, self.grid_size-3, size=1)[0]\n",
    "        self.y = np.random.randint(3, self.grid_size-3, size=1)[0]\n",
    "\n",
    "\n",
    "        bonus = 0.5*np.random.binomial(1,self.temperature,size=self.grid_size**2)\n",
    "        bonus = bonus.reshape(self.grid_size,self.grid_size)\n",
    "\n",
    "        malus = -1.0*np.random.binomial(1,self.temperature,size=self.grid_size**2)\n",
    "        malus = malus.reshape(self.grid_size, self.grid_size)\n",
    "\n",
    "        self.to_draw = np.zeros((self.max_time+2, self.grid_size*self.scale, self.grid_size*self.scale, 3))\n",
    "\n",
    "\n",
    "        malus[bonus>0]=0\n",
    "\n",
    "        self.board = bonus + malus\n",
    "\n",
    "        self.position = np.zeros((self.grid_size, self.grid_size))\n",
    "        self.position[0:2,:]= -1\n",
    "        self.position[:,0:2] = -1\n",
    "        self.position[-2:, :] = -1\n",
    "        self.position[-2:, :] = -1\n",
    "        self.board[self.x,self.y] = 0\n",
    "        self.t = 0\n",
    "\n",
    "        state = np.concatenate((\n",
    "                               self.board.reshape(self.grid_size, self.grid_size,1),\n",
    "                        self.position.reshape(self.grid_size, self.grid_size,1)),axis=2)\n",
    "\n",
    "        state = state[self.x - 2:self.x + 3, self.y - 2:self.y + 3, :]\n",
    "        return state"
   ]
  },
  {
   "cell_type": "markdown",
   "metadata": {},
   "source": [
    "The following elements are important because they correspond to the hyper parameters for this project:"
   ]
  },
  {
   "cell_type": "code",
   "execution_count": 7,
   "metadata": {},
   "outputs": [],
   "source": [
    "# parameters\n",
    "size = 13\n",
    "T=200\n",
    "temperature=0.3\n",
    "epochs_train=10 # set small when debugging\n",
    "epochs_test=10 # set small when debugging\n",
    "\n",
    "# display videos\n",
    "def display_videos(name):\n",
    "    video = io.open(name, 'r+b').read()\n",
    "    encoded = base64.b64encode(video)\n",
    "    return '''<video alt=\"test\" controls>\n",
    "                <source src=\"data:video/mp4;base64,{0}\" type=\"video/mp4\" />\n",
    "             </video>'''.format(encoded.decode('ascii'))"
   ]
  },
  {
   "cell_type": "markdown",
   "metadata": {},
   "source": [
    "__Question 2__ Explain the use of the arrays ```position``` and ```board```."
   ]
  },
  {
   "cell_type": "markdown",
   "metadata": {},
   "source": [
    "An array of dimension (n,n) is used to represent the ```board``` as a square grid. \n",
    "```position``` represents either the board with ```-1```, the rat with ```1``` and all other cells where the rat isn't with ```0```"
   ]
  },
  {
   "cell_type": "markdown",
   "metadata": {},
   "source": [
    "## Random Agent"
   ]
  },
  {
   "cell_type": "markdown",
   "metadata": {},
   "source": [
    "***\n",
    "__Question 3__ Implement a random Agent (only ```learned_act``` needs to be implemented):"
   ]
  },
  {
   "cell_type": "code",
   "execution_count": 8,
   "metadata": {},
   "outputs": [],
   "source": [
    "class RandomAgent(Agent):\n",
    "    def __init__(self):\n",
    "        super(RandomAgent, self).__init__()\n",
    "        pass\n",
    "\n",
    "    \n",
    "    \"\"\"\n",
    "    state has a (5,5,2) shape\n",
    "    \"\"\"\n",
    "    def learned_act(self, s):\n",
    "        return np.random.randint(4)"
   ]
  },
  {
   "cell_type": "markdown",
   "metadata": {},
   "source": [
    "***\n",
    "***\n",
    "__Question 4__ Visualize the game moves. You need to fill in the following function for the evaluation:"
   ]
  },
  {
   "cell_type": "code",
   "execution_count": 9,
   "metadata": {},
   "outputs": [],
   "source": [
    "def test(agent,env,epochs,prefix=''):\n",
    "    # Number of won games\n",
    "    score = 0\n",
    "        \n",
    "    for e in range(epochs):\n",
    "        \n",
    "        ##### FILL IN HERE\n",
    "        \n",
    "        # At each epoch, we restart to a fresh game and get the initial state\n",
    "        state = env.reset()\n",
    "        # This assumes that the games will end\n",
    "        game_over = False\n",
    "\n",
    "        win = 0\n",
    "        lose = 0\n",
    "\n",
    "        while not game_over:\n",
    "            # The agent performs an action\n",
    "            action = agent.act(state)\n",
    "\n",
    "            # Apply an action to the environment, get the next state, the reward\n",
    "            # and if the games end\n",
    "            prev_state = state\n",
    "            state, reward, game_over = env.act(action)\n",
    "\n",
    "            # Update the counters\n",
    "            if reward > 0:\n",
    "                win = win + reward\n",
    "            if reward < 0:\n",
    "                lose = lose -reward\n",
    "\n",
    "            # Apply the reinforcement strategy\n",
    "            loss = agent.reinforce(prev_state, state,  action, reward, game_over)\n",
    "\n",
    "        # Save as a mp4\n",
    "        if e % 10 == 0:\n",
    "            env.draw(e)\n",
    "\n",
    "        # Update stats\n",
    "        score += win-lose\n",
    "\n",
    "        #print(\"Epoch {:03d}/{:03d} | Loss {:.4f} | Win/lose count {}/{} ({})\"\n",
    "        #      .format(e, epochs, loss, win, lose, win-lose))\n",
    "        agent.save()\n",
    "        \n",
    "        \n",
    "        \n",
    "        ####################\n",
    "        # Save as a mp4\n",
    "        env.draw(prefix+str(e))\n",
    "\n",
    "        # Update stats\n",
    "        score = score + win-lose\n",
    "\n",
    "        print(\"Win/lose count {}/{}. Average score ({})\"\n",
    "              .format(win, lose, score/(1+e)))\n",
    "    print('Final score: '+str(score/epochs))"
   ]
  },
  {
   "cell_type": "code",
   "execution_count": 10,
   "metadata": {},
   "outputs": [
    {
     "name": "stdout",
     "output_type": "stream",
     "text": [
      "Win/lose count 7.0/19.0. Average score (-24.0)\n",
      "Win/lose count 9.0/15.0. Average score (-18.0)\n",
      "Win/lose count 7.5/15.0. Average score (-17.0)\n",
      "Win/lose count 9.0/9.0. Average score (-12.75)\n",
      "Win/lose count 9.0/22.0. Average score (-15.4)\n",
      "Win/lose count 13.5/12.0. Average score (-12.333333333333334)\n",
      "Win/lose count 14.5/25.0. Average score (-13.571428571428571)\n",
      "Win/lose count 10.5/9.0. Average score (-11.5)\n",
      "Win/lose count 10.5/15.0. Average score (-11.222222222222221)\n",
      "Win/lose count 7.0/12.0. Average score (-11.1)\n",
      "Final score: -11.1\n"
     ]
    },
    {
     "data": {
      "text/html": [
       "<video alt=\"test\" controls>\n",
       "                <source src=\"data:video/mp4;base64,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\" type=\"video/mp4\" />\n",
       "             </video>"
      ],
      "text/plain": [
       "<IPython.core.display.HTML object>"
      ]
     },
     "execution_count": 10,
     "metadata": {},
     "output_type": "execute_result"
    }
   ],
   "source": [
    "# Initialize the game\n",
    "env = Environment(grid_size=size, max_time=T,temperature=temperature)\n",
    "\n",
    "# Initialize the agent!\n",
    "agent = RandomAgent()\n",
    "skvideo.setFFmpegPath(\"/usr/local/bin/\")\n",
    "test(agent,env,epochs_test,prefix='random')\n",
    "HTML(display_videos('random0.mp4'))"
   ]
  },
  {
   "cell_type": "markdown",
   "metadata": {},
   "source": [
    "***\n",
    "## DQN"
   ]
  },
  {
   "cell_type": "markdown",
   "metadata": {},
   "source": [
    "Let us assume here that $T=\\infty$.\n",
    "\n",
    "***\n",
    "__Question 5__ Let $\\pi$ be a policy, show that:\n",
    "\n",
    "\\begin{equation*}\n",
    "Q^{\\pi}(s,a)=E_{(s',a')\\sim p(.|s,a)}[r(s,a)+\\gamma Q^{\\pi}(s',a')]\n",
    "\\end{equation*}\n",
    "\n",
    "Then, show that for the optimal policy $\\pi^*$ (we assume its existence), the following holds: \n",
    "\n",
    "\\begin{equation*}\n",
    "Q^{*}(s,a)=E_{s'\\sim \\pi^*(.|s,a)}[r(s,a)+\\gamma\\max_{a'}Q^{*}(s',a')].\n",
    "\\end{equation*}\n",
    "Finally, deduce that a plausible objective is:\n",
    "\n",
    "\\begin{equation*}\n",
    "\\mathcal{L}(\\theta)=E_{s' \\sim \\pi^*(.|s,a)}\\Vert r+\\gamma\\max\\max_{a'}Q(s',a',\\theta)-Q(s,a,\\theta)\\Vert^{2}.\n",
    "\\end{equation*}\n",
    "\n",
    "\n"
   ]
  },
  {
   "cell_type": "markdown",
   "metadata": {},
   "source": []
  },
  {
   "cell_type": "markdown",
   "metadata": {},
   "source": [
    "***\n",
    "The DQN-learning algorithm relies on these derivations to train the parameters $\\theta$ of a Deep Neural Network:\n",
    "\n",
    "1. At the state $s_t$, select the action $a_t$ with best reward using $Q_t$ and store the results;\n",
    "\n",
    "2. Obtain the new state $s_{t+1}$ from the environment $p$;\n",
    "\n",
    "3. Store $(s_t,a_t,s_{t+1})$;\n",
    "\n",
    "4. Obtain $Q_{t+1}$ by minimizing  $\\mathcal{L}$ from a recovered batch from the previously stored results.\n",
    "\n",
    "***\n",
    "__Question 6__ Implement the class ```Memory``` that stores moves (in a replay buffer) via ```remember``` and provides a ```random_access``` to these. Specify a maximum memory size to avoid side effects. You can for example use a ```list()``` and set by default ```max_memory=100```."
   ]
  },
  {
   "cell_type": "code",
   "execution_count": 11,
   "metadata": {},
   "outputs": [],
   "source": [
    "class Memory(object):\n",
    "    def __init__(self, max_memory=100):\n",
    "        self.max_memory = max_memory\n",
    "        self.memory = list()\n",
    "\n",
    "    def remember(self, m):\n",
    "        self.memory.append(m)\n",
    "        if len(self.memory) > 100:\n",
    "            del self.memory[0]\n",
    "\n",
    "    def random_access(self):\n",
    "        return self.memory[np.random.randint(len(self.memory))]"
   ]
  },
  {
   "cell_type": "markdown",
   "metadata": {},
   "source": [
    "***\n",
    "The pipeline we will use for training is given below:"
   ]
  },
  {
   "cell_type": "code",
   "execution_count": 12,
   "metadata": {},
   "outputs": [],
   "source": [
    "def train(agent,env,epoch,prefix=''):\n",
    "    # Number of won games\n",
    "    score = 0\n",
    "    loss = 0\n",
    "\n",
    "    for e in range(epoch):\n",
    "        # At each epoch, we restart to a fresh game and get the initial state\n",
    "        state = env.reset()\n",
    "        # This assumes that the games will terminate\n",
    "        game_over = False\n",
    "\n",
    "        win = 0\n",
    "        lose = 0\n",
    "\n",
    "        while not game_over:\n",
    "            # The agent performs an action\n",
    "            action = agent.act(state)\n",
    "\n",
    "            # Apply an action to the environment, get the next state, the reward\n",
    "            # and if the games end\n",
    "            prev_state = state\n",
    "            state, reward, game_over = env.act(action)\n",
    "\n",
    "            # Update the counters\n",
    "            if reward > 0:\n",
    "                win = win + reward\n",
    "            if reward < 0:\n",
    "                lose = lose -reward\n",
    "\n",
    "            # Apply the reinforcement strategy\n",
    "            loss = agent.reinforce(prev_state, state,  action, reward, game_over)\n",
    "\n",
    "        # Save as a mp4\n",
    "        if e % 10 == 0 and e >0:\n",
    "            env.draw(prefix+str(e))\n",
    "\n",
    "        # Update stats\n",
    "        score += win-lose\n",
    "\n",
    "        print(\"Epoch {:03d}/{:03d} | Loss {:.4f} | Win/lose count {}/{} ({})\"\n",
    "              .format(e, epoch, loss, win, lose, win-lose))\n",
    "        agent.save(name_weights=prefix+'model.h5',name_model=prefix+'model.json')"
   ]
  },
  {
   "cell_type": "markdown",
   "metadata": {},
   "source": [
    "***\n",
    "__Question 7__ Implement the DQN training algorithm using a cascade of fully connected layers. You can use different learning rate, batch size or memory size parameters. In particular, the loss might oscillate while the player will start to win the games. You have to find a good criterium."
   ]
  },
  {
   "cell_type": "code",
   "execution_count": 13,
   "metadata": {},
   "outputs": [],
   "source": [
    "class DQN(Agent):\n",
    "    def __init__(self, grid_size,  epsilon = 0.1, memory_size=100, batch_size = 16,n_state=2):\n",
    "        super(DQN, self).__init__(epsilon = epsilon)\n",
    "\n",
    "        # Discount for Q learning\n",
    "        self.discount = 0.99\n",
    "        \n",
    "        self.grid_size = grid_size\n",
    "        \n",
    "        # number of state\n",
    "        self.n_state = n_state\n",
    "\n",
    "        # Memory\n",
    "        self.memory = Memory(memory_size)\n",
    "        \n",
    "        # Batch size when learning\n",
    "        self.batch_size = batch_size\n",
    "\n",
    "    def learned_act(self, s):\n",
    "        return np.argmax(self.model.predict(np.array([s]))[0])\n",
    "\n",
    "    def reinforce(self, s_, n_s_, a_, r_, game_over_):\n",
    "        # Two steps: first memorize the states, second learn from the pool\n",
    "\n",
    "        self.memory.remember([s_, n_s_, a_, r_, game_over_])\n",
    "        \n",
    "        input_states = np.zeros((self.batch_size, 5,5,self.n_state))\n",
    "        target_q = np.zeros((self.batch_size, 4))\n",
    "        \n",
    "        for i in range(self.batch_size):\n",
    "            ######## FILL IN\n",
    "            s_, n_s_, a_, r_, game_over_ = self.memory.random_access()\n",
    "            \n",
    "            input_states[i] = s_\n",
    "\n",
    "            target_q[i] = self.model.predict(np.array([s_]))[0]\n",
    "            \n",
    "            if game_over_:\n",
    "                ######## FILL IN\n",
    "                target_q[i, a_] = r_\n",
    "                \n",
    "            else:\n",
    "                ######## FILL IN\n",
    "                target_q[i, a_] = r_ + self.discount * self.model.predict(n_s_.reshape(1, 5, 5, self.n_state)).max()\n",
    "        ######## FILL IN\n",
    "\n",
    "        target_q = np.clip(target_q, -3, 3)\n",
    "\n",
    "        l = self.model.train_on_batch(input_states, target_q)\n",
    "\n",
    "        return l\n",
    "\n",
    "    def save(self,name_weights='model.h5',name_model='model.json'):\n",
    "        self.model.save_weights(name_weights, overwrite=True)\n",
    "        with open(name_model, \"w\") as outfile:\n",
    "            json.dump(self.model.to_json(), outfile)\n",
    "            \n",
    "    def load(self,name_weights='model.h5',name_model='model.json'):\n",
    "        with open(name_model, \"r\") as jfile:\n",
    "            model = model_from_json(json.load(jfile))\n",
    "        model.load_weights(name_weights)\n",
    "        model.compile(\"sgd\", \"mse\")\n",
    "        self.model = model\n",
    "\n",
    "            \n",
    "class DQN_FC(DQN):\n",
    "    def __init__(self, *args, lr=0.1,**kwargs):\n",
    "        super(DQN_FC, self).__init__( *args,**kwargs)\n",
    "        \n",
    "        # NN Model\n",
    "        \n",
    "        inp = Input(shape=(5, 5, self.n_state))\n",
    "        x = Flatten()(inp)\n",
    "        x = Dense(64, activation=\"relu\")(x)\n",
    "        x = Dense(4, activation=\"linear\")(x)\n",
    "        model = Model(inputs=inp, outputs=x)\n",
    "        \n",
    "        model.compile(adam(lr=lr, decay=1e-4), \"mse\")\n",
    "        self.model = model"
   ]
  },
  {
   "cell_type": "code",
   "execution_count": 14,
   "metadata": {},
   "outputs": [],
   "source": [
    "epochs_train=21 # set small when debugging\n",
    "epochs_test=11 # set small when debugging"
   ]
  },
  {
   "cell_type": "code",
   "execution_count": 15,
   "metadata": {},
   "outputs": [
    {
     "name": "stdout",
     "output_type": "stream",
     "text": [
      "WARNING:tensorflow:From /Users/louis/opt/anaconda3/lib/python3.7/site-packages/keras/backend/tensorflow_backend.py:74: The name tf.get_default_graph is deprecated. Please use tf.compat.v1.get_default_graph instead.\n",
      "\n",
      "WARNING:tensorflow:From /Users/louis/opt/anaconda3/lib/python3.7/site-packages/keras/backend/tensorflow_backend.py:517: The name tf.placeholder is deprecated. Please use tf.compat.v1.placeholder instead.\n",
      "\n",
      "WARNING:tensorflow:From /Users/louis/opt/anaconda3/lib/python3.7/site-packages/keras/backend/tensorflow_backend.py:4138: The name tf.random_uniform is deprecated. Please use tf.random.uniform instead.\n",
      "\n",
      "WARNING:tensorflow:From /Users/louis/opt/anaconda3/lib/python3.7/site-packages/keras/optimizers.py:790: The name tf.train.Optimizer is deprecated. Please use tf.compat.v1.train.Optimizer instead.\n",
      "\n",
      "WARNING:tensorflow:From /Users/louis/opt/anaconda3/lib/python3.7/site-packages/keras/backend/tensorflow_backend.py:2741: The name tf.Session is deprecated. Please use tf.compat.v1.Session instead.\n",
      "\n",
      "WARNING:tensorflow:From /Users/louis/opt/anaconda3/lib/python3.7/site-packages/keras/backend/tensorflow_backend.py:174: The name tf.get_default_session is deprecated. Please use tf.compat.v1.get_default_session instead.\n",
      "\n",
      "WARNING:tensorflow:From /Users/louis/opt/anaconda3/lib/python3.7/site-packages/keras/backend/tensorflow_backend.py:181: The name tf.ConfigProto is deprecated. Please use tf.compat.v1.ConfigProto instead.\n",
      "\n",
      "WARNING:tensorflow:From /Users/louis/opt/anaconda3/lib/python3.7/site-packages/keras/backend/tensorflow_backend.py:190: The name tf.global_variables is deprecated. Please use tf.compat.v1.global_variables instead.\n",
      "\n",
      "WARNING:tensorflow:From /Users/louis/opt/anaconda3/lib/python3.7/site-packages/keras/backend/tensorflow_backend.py:199: The name tf.is_variable_initialized is deprecated. Please use tf.compat.v1.is_variable_initialized instead.\n",
      "\n",
      "WARNING:tensorflow:From /Users/louis/opt/anaconda3/lib/python3.7/site-packages/keras/backend/tensorflow_backend.py:206: The name tf.variables_initializer is deprecated. Please use tf.compat.v1.variables_initializer instead.\n",
      "\n",
      "WARNING:tensorflow:From /Users/louis/opt/anaconda3/lib/python3.7/site-packages/keras/backend/tensorflow_backend.py:986: The name tf.assign_add is deprecated. Please use tf.compat.v1.assign_add instead.\n",
      "\n",
      "WARNING:tensorflow:From /Users/louis/opt/anaconda3/lib/python3.7/site-packages/keras/backend/tensorflow_backend.py:973: The name tf.assign is deprecated. Please use tf.compat.v1.assign instead.\n",
      "\n",
      "Epoch 000/021 | Loss 0.0131 | Win/lose count 3.5/5.0 (-1.5)\n",
      "Epoch 001/021 | Loss 0.0864 | Win/lose count 2.0/4.0 (-2.0)\n",
      "Epoch 002/021 | Loss 0.0007 | Win/lose count 6.5/4.0 (2.5)\n",
      "Epoch 003/021 | Loss 0.0060 | Win/lose count 5.0/5.0 (0.0)\n",
      "Epoch 004/021 | Loss 0.0684 | Win/lose count 8.0/4.0 (4.0)\n",
      "Epoch 005/021 | Loss 0.0005 | Win/lose count 2.5/2.0 (0.5)\n",
      "Epoch 006/021 | Loss 0.0583 | Win/lose count 5.0/3.0 (2.0)\n",
      "Epoch 007/021 | Loss 0.0071 | Win/lose count 6.5/5.0 (1.5)\n",
      "Epoch 008/021 | Loss 0.0005 | Win/lose count 2.5/0 (2.5)\n",
      "Epoch 009/021 | Loss 0.0029 | Win/lose count 5.0/2.0 (3.0)\n",
      "Epoch 010/021 | Loss 0.0013 | Win/lose count 1.0/1.0 (0.0)\n",
      "Epoch 011/021 | Loss 0.0005 | Win/lose count 11.5/3.0 (8.5)\n",
      "Epoch 012/021 | Loss 0.0086 | Win/lose count 8.0/3.0 (5.0)\n",
      "Epoch 013/021 | Loss 0.0039 | Win/lose count 5.0/3.0 (2.0)\n",
      "Epoch 014/021 | Loss 0.0030 | Win/lose count 4.0/3.0 (1.0)\n",
      "Epoch 015/021 | Loss 0.0021 | Win/lose count 2.0/2.0 (0.0)\n",
      "Epoch 016/021 | Loss 0.0048 | Win/lose count 14.0/6.0 (8.0)\n",
      "Epoch 017/021 | Loss 0.0040 | Win/lose count 9.0/3.0 (6.0)\n",
      "Epoch 018/021 | Loss 0.0598 | Win/lose count 7.5/2.0 (5.5)\n",
      "Epoch 019/021 | Loss 0.0022 | Win/lose count 6.5/1.0 (5.5)\n",
      "Epoch 020/021 | Loss 0.0025 | Win/lose count 7.5/7.0 (0.5)\n"
     ]
    },
    {
     "data": {
      "text/html": [
       "<video alt=\"test\" controls>\n",
       "                <source src=\"data:video/mp4;base64,AAAAIGZ0eXBpc29tAAACAGlzb21pc28yYXZjMW1wNDEAAAAIZnJlZQAAFzRtZGF0AAACrQYF//+p3EXpvebZSLeWLNgg2SPu73gyNjQgLSBjb3JlIDE1NSByMjkxNyAwYTg0ZDk4IC0gSC4yNjQvTVBFRy00IEFWQyBjb2RlYyAtIENvcHlsZWZ0IDIwMDMtMjAxOCAtIGh0dHA6Ly93d3cudmlkZW9sYW4ub3JnL3gyNjQuaHRtbCAtIG9wdGlvbnM6IGNhYmFjPTEgcmVmPTMgZGVibG9jaz0xOjA6MCBhbmFseXNlPTB4MToweDExMSBtZT1oZXggc3VibWU9NyBwc3k9MSBwc3lfcmQ9MS4wMDowLjAwIG1peGVkX3JlZj0xIG1lX3JhbmdlPTE2IGNocm9tYV9tZT0xIHRyZWxsaXM9MSA4eDhkY3Q9MCBjcW09MCBkZWFkem9uZT0yMSwxMSBmYXN0X3Bza2lwPTEgY2hyb21hX3FwX29mZnNldD00IHRocmVhZHM9OCBsb29rYWhlYWRfdGhyZWFkcz0xIHNsaWNlZF90aHJlYWRzPTAgbnI9MCBkZWNpbWF0ZT0xIGludGVybGFjZWQ9MCBibHVyYXlfY29tcGF0PTAgY29uc3RyYWluZWRfaW50cmE9MCBiZnJhbWVzPTMgYl9weXJhbWlkPTIgYl9hZGFwdD0xIGJfYmlhcz0wIGRpcmVjdD0xIHdlaWdodGI9MSBvcGVuX2dvcD0wIHdlaWdodHA9MiBrZXlpbnQ9MjUwIGtleWludF9taW49MjUgc2NlbmVjdXQ9NDAgaW50cmFfcmVmcmVzaD0wIHJjX2xvb2thaGVhZD00MCByYz1jcmYgbWJ0cmVlPTEgY3JmPTIzLjAgcWNvbXA9MC42MCBxcG1pbj0wIHFwbWF4PTY5IHFwc3RlcD00IGlwX3JhdGlvPTEuNDAgYXE9MToxLjAwAIAAAAMNZYiEADv//vb8/AptUwn/LZ/+iL/lb+9P2a61uFE7M7QacwPQC/3cd/Xi1bCrc27LcdG8bJkAU3Roif8hrvvgUoqkfgUzWsTzDZhGHbEeGtwo+35P1YUoHtIovO7cYh2ihzvFAqFzAJ+Rp6GI3pSoDzedyTjKq2N34Wncz9eCCGlUvio6cEV4VgstW2DcnJhYLnlERQuKpo5wI5+8B8Yue9kCvbd7VX72A8dGWYGtJ3KyMuV39YljqnmUo4Jwhgf/HrePpfQ74j4s4Gg5yPLoPGSy9ILLRpopH2P3kZgF98c7Lm8gUdEz8/ySwtkOO/1VKPyxuEvvbrRw/Ibx1O7WKX0VIOKkyiZkZSLQ1dNsBdizhBo6FYH8w8MhfweiJ9qa/9HXsEW/E1GMSaLt5xim7RGaEguIXbhIpOPm66j94ZYiQHKX40hXnR0KdoaZl3vzD7yxjgIQEuFUxYQt9/MOSRd9lh4jWPzBBPnlKe+HJk4CYmMEzQeVVAeagYHAFHZgsO4SfV/nsLkn7q5BwFRvjP44qcqD+gvO+/RwFct6r8ZGI1AR+s7KOA25111QmQIw9/AFJCHoJ/tbV4iWeefTGeDUlPwjNiga2Oi949999WgRmpoqnuM6i18LeFiHSqciO7mlaqyTr1G8dgrpuZVurQQ1v8p12CIyRe1ZDHb4wq3CrCG8IArkj3g2WeAPrU7wSLy9i1p+yL13yiZ2TZQQ3SMnHzFAnSlWjVbcW2vng510NpOiESAQmvIEOkSypSngQBV/nUi1XWZWgqsIhjUcrSVRr+4zkE6kOZlrefwAAcLBlq0HWMelJQ5yCCWGFjmT0ov8q57ql0m+A9unCjQi4CrE/fiEyDI6vAgNGLLuMilocSCTeSiMRFwClKwWJyqMsWwO9oJ0DuxWGmjiZ55IyOB5H/Je2PVTci+ZlBo4y0PEhGr8B0ZoNWVHjADhLg6PZ9aW14V8O/+ELEZN9lhknsNiQ6G08Zcv/fNefmanQfjJ52Iw65FpLxf/ZiMkLniZFkvwVg50YlOt5KAC8wAAABFBmiRsQ7/+qZYAAdI3/lbYoAAAAAxBnkJ4hf8AAitAM+EAAAAQAZ5hdEK/AASJUjvwAfdVwAAAABABnmNqQr8ABIlSO9nj7quBAAAAE0GaaEmoQWiZTAh3//6plgAAlYEAAAAMQZ6GRREsL/8AALKBAAAAEAGepXRCvwAEiVI78AH3VcEAAAAQAZ6nakK/AASJUjvZ4+6rgAAAABNBmqxJqEFsmUwId//+qZYAAJWAAAAADEGeykUVLC//AACygQAAABABnul0Qr8ABIlSO/AB91XAAAAAEAGe62pCvwAEiVI72ePuq4AAAAATQZrwSahBbJlMCHf//qmWAACVgQAAAAxBnw5FFSwv/wAAsoEAAAAQAZ8tdEK/AASJUjvwAfdVwQAAABABny9qQr8ABIlSO9nj7quAAAAAE0GbNEmoQWyZTAh3//6plgAAlYAAAAAMQZ9SRRUsL/8AALKBAAAAEAGfcXRCvwAEiVI78AH3VcAAAAAQAZ9zakK/AASJUjvZ4+6rgAAAABNBm3hJqEFsmUwId//+qZYAAJWBAAAADEGflkUVLC//AACygAAAABABn7V0Qr8ABIlSO/AB91XBAAAAEAGft2pCvwAEiVI72ePuq4EAAAATQZu8SahBbJlMCHf//qmWAACVgAAAAAxBn9pFFSwv/wAAsoEAAAAQAZ/5dEK/AASJUjvwAfdVwAAAABABn/tqQr8ABIlSO9nj7quBAAAAE0Gb4EmoQWyZTAh3//6plgAAlYEAAAAMQZ4eRRUsL/8AALKAAAAAEAGePXRCvwAEiVI78AH3VcAAAAAQAZ4/akK/AASJUjvZ4+6rgQAAABNBmiRJqEFsmUwId//+qZYAAJWAAAAADEGeQkUVLC//AACygQAAABABnmF0Qr8ABIlSO/AB91XAAAAAEAGeY2pCvwAEiVI72ePuq4EAAAATQZpoSahBbJlMCHf//qmWAACVgQAAAAxBnoZFFSwv/wAAsoEAAAAQAZ6ldEK/AASJUjvwAfdVwQAAAA8BnqdqQr8ABIlSN1nq0V4AAAAaQZqrSahBbJlMCG///qeEAAiqALNsQBpDucAAAAASQZ7JRRUsK/8ABxWd9C3JFiiBAAAAEAGe6mpCvwAHFZg8mB6+ZoAAAAAoQZrvSahBbJlMCG///qeEABY/kDbcyyue8fgUqWz8CmdgYnh1U9oggAAAABVBnw1FFSwv/wANMq7v290uNi2x+bEAAAAQAZ8sdEK/AAteWqB07UQNgQAAAA8Bny5qQr8AEd2I8mB6998AAAAZQZswSahBbJlMCHf//qmWAAtullZxWnJHoAAAABdBm1RJ4QpSZTAhv/6nhAAXQO4AWzHeUAAAAA5Bn3JFNEwv/wAN0IuQIQAAABABn5F0Qr8AEt3Hel2m25mAAAAAEAGfk2pCvwAS15oloUhXmYAAAAASQZuWSahBaJlMFPDf/qeEAAEnAAAAEAGftWpCvwAS15oloUhXmYAAAAASQZu4SeEKUmUwUsN//qeEAAEnAAAAEAGf12pCvwAS15oloUhXmYEAAAAfQZvcSeEOiZTAhv/+p4QAFs+NP5L2/8tH5mqa3PuVHAAAABVBn/pFFTwv/wANgI43VOlyHgqizRkAAAAQAZ4ZdEK/ABLdx3lbKHrFgAAAAA8BnhtqQr8ADEEXzNsyN0cAAAAfQZofSahBaJlMCGf//p4QAFI94a5wKbS3a5C1sfRrcQAAABJBnj1FESwr/wAQ3aJ+sKEuCZUAAAAQAZ5eakK/ABFXmiZE0rPUwAAAABlBmkBJqEFsmUwIZ//+nhAAUj3TYy5NlXJtAAAAHUGaYknhClJlMFFSwz/+nhAAT/4nfHXIySrdZZUgAAAAEAGegWpCvwAQWT5zqmY36YEAAAAbQZqDSeEOiZTAhn/+nhAAc8pxz+HPiBCf3A+AAAAAF0GapEnhDyZTAhn//p4QALVwY5+l/cqzAAAAGEGaxUnhDyZTAhn//p4QARU4Rz9GA7NBFwAAABhBmuZJ4Q8mUwIZ//6eEAEW+IedboGSHX0AAAAdQZsISeEPJlMFETwz//6eEAGbX3XEc/pHX39L8eEAAAAQAZ8nakK/AFiUaJkTSs3dwAAAABhBmylJ4Q8mUwIZ//6eEAGd9fd2nN3FuDwAAAAYQZtKSeEPJlMCGf/+nhABk/X3dpzdxbhdAAAAGUGba0nhDyZTAhv//qeEAGT99mP8Pq229YAAAAAZQZuMSeEPJlMCG//+p4QAYn2D/CcFuhJ0wAAAABlBm61J4Q8mUwId//6plgAgBRzrQ9X3yI3BAAAAGEGb0UnhDyZTAh3//qmWADFY5CP76vu1FwAAABBBn+9FETwv/wA6CdRvYI/5AAAADwGeDnRCvwA2Dybzzi27gAAAABABnhBqQr8AUdRomRNKzeVAAAAAE0GaFUmoQWiZTAh3//6plgAAlYEAAAAMQZ4zRREsL/8AALKAAAAADwGeUnRCvwBR7R3R23wrHwAAAA8BnlRqQr8AUdRogtR5dekAAAAcQZpYSahBbJlMCHf//qmWAEwRYboxCXQY/8QsoAAAABJBnnZFFSwr/wB5mfMt4bkHF/kAAAAPAZ6XakK/AHmZ8xv4GnUhAAAAF0GanEmoQWyZTAhv//6nhACbfHT7XLKAAAAAEUGeukUVLC//AF0ZAvux8/jBAAAAEAGe2XRCvwB8WwNbTKHpGcAAAAAQAZ7bakK/AHw5w17zSs2/wQAAABJBmsBJqEFsmUwIb//+p4QAAScAAAAQQZ7+RRUsL/8AWvJbn64jUwAAABABnx10Qr8AfFsDW0yh6RnAAAAAEAGfH2pCvwB8OcNe80rNv8EAAAAYQZsDSahBbJlMCGf//p4QAlohx8C+a23cAAAAD0GfIUUVLCv/AHxBXDW/wQAAAA8Bn0JqQr8AfGwJcr+/p8AAAAAZQZtESahBbJlMCGf//p4QAmohx/PBfyQ07QAAABtBm2VJ4QpSZTAhv/6nhADxnGf6rfVQIT+6X+EAAAAYQZuGSeEOiZTAhv/+p4QA9wPCjj2S2uOBAAAAGEGbp0nhDyZTAh3//qmWAIAUc6VLdyFNwQAAACFBm8tJ4Q8mUwId//6plgDjnUC0SO5KV6CIbMfd4X/SJesAAAARQZ/pRRE8L/8A8qbIWAcJyggAAAAPAZ4IdEK/ANe8m884tLuBAAAAEAGeCmpCvwFRsI8mB69s9IAAAAATQZoPSahBaJlMCHf//qmWAACVgAAAAAxBni1FESwv/wAAsoEAAAAPAZ5MdEK/AU2yjiOy7KkXAAAADwGeTmpCvwFNso3WerPR3QAAABJBmlNJqEFsmUwIb//+p4QAAScAAAAMQZ5xRRUsL/8AALKAAAAADwGekHRCvwFNso4jsuypFwAAAA8BnpJqQr8BTbKN1nqz0d0AAAAbQZqWSahBbJlMCG///qeEAcbsrAhPXsz4FHT/AAAAD0GetEUVLCv/AVFrcNZiwQAAAA0BntVqQr8BUeUi3rMWAAAAHEGa10moQWyZTAhv//6nhAULRP9P81UCE/pIqYEAAAAYQZr4SeEKUmUwIb/+p4QFjFaQRDH5cdHdAAAAGEGbG0nhDomUwIb//qeEBib3+emF9ETDFgAAAA9BnzlFETwr/wIeRoEUd0EAAAAPAZ9aakK/Ah7NzYI/1CtgAAAAG0GbXUmoQWiZTBTw7/6plgMgKnQVR1cQdNMTjwAAABABn3xqQr8CHkdudZ44MmtBAAAAEkGbYUnhClJlMCHf/qmWAACVgAAAAAxBn59FNEwv/wAAsoAAAAAPAZ++dEK/AU2yjiOy7KkXAAAADwGfoGpCvwFNso3WerPR3QAAACdBm6VJqEFomUwIb//+p4QB8ecfwKbA6d+BTLZ2fAoUg+bfXe4yFH0AAAAVQZ/DRREsL/8BlR8+ixXLxAggnaZgAAAADwGf4nRCvwIfIsq8BU67NwAAABABn+RqQr8CHkxXTfSQaR0xAAAAE0Gb50moQWyZTBRMN//+p4QAAScAAAAPAZ4GakK/AWPlA8mCLLuBAAAAEkGaCUnhClJlMFLDf/6nhAABJwAAABABnihqQr8BX7a2wz1Z6OOAAAAAEkGaK0nhDomUwUTDf/6nhAABJwAAABABnkpqQr8BX7a2wz1Z6OOAAAAAEkGaTUnhDyZTBTw3//6nhAABJwAAABABnmxqQr8BX7a2wz1Z6OOBAAAAEkGab0nhDyZTBTw3//6nhAABJwAAABABno5qQr8BX7a2wz1Z6OOBAAAAEkGakUnhDyZTBTw3//6nhAABJwAAABABnrBqQr8BX7a2wz1Z6OOAAAAAEkGas0nhDyZTBTw3//6nhAABJwAAABABntJqQr8BX7a2wz1Z6OOAAAAAEkGa1UnhDyZTBTw3//6nhAABJwAAABABnvRqQr8BX7a2wz1Z6OOBAAAAEkGa90nhDyZTBTw3//6nhAABJwAAABABnxZqQr8BX7a2wz1Z6OOBAAAAE0GbGUnhDyZTBTw7//6plgAAlYEAAAAQAZ84akK/AV+2tsM9WejjgAAAAB5BmztJ4Q8mUwU8O//+qZYDICoWQk2hnaqBw/0uDukAAAAQAZ9aakK/Ah7tqG4z688MCAAAABJBm19J4Q8mUwId//6plgAAlYEAAAAMQZ99RRE8L/8AALKBAAAAEQGfnHRCvwIdMQ18GkhHQUd0AAAAEQGfnmpCvwIdjJg8/f+X9kVsAAAAE0Gbg0moQWiZTAh3//6plgAAlYEAAAAMQZ+hRREsL/8AALKAAAAAEQGfwHRCvwIdMQ18GkhHQUd1AAAAEQGfwmpCvwIdjJg8/f+X9kVsAAAAE0Gbx0moQWyZTAh3//6plgAAlYEAAAAMQZ/lRRUsL/8AALKBAAAAEQGeBHRCvwIdMQ18GkhHQUd1AAAAEQGeBmpCvwIdjJg8/f+X9kVtAAAAE0GaC0moQWyZTAh3//6plgAAlYAAAAAMQZ4pRRUsL/8AALKAAAAAEQGeSHRCvwIdMQ18GkhHQUd1AAAAEQGeSmpCvwIdjJg8/f+X9kVsAAAAG0GaTkmoQWyZTAh3//6plgMyTYUCAEuQ9fkTsAAAAA9BnmxFFSwr/wIeRoEUd0EAAAANAZ6NakK/Ah9iRbijuwAAABNBmpJJqEFsmUwId//+qZYAAJWBAAAAE0GesEUVLC//AYgWeVTMsuQ0Oz4AAAAQAZ7PdEK/Agqa0ZJYnV2ggAAAAA8BntFqQr8CC2OycNm02TMAAAATQZrWSahBbJlMCHf//qmWAACVgAAAAAxBnvRFFSwv/wAAsoAAAAAPAZ8TdEK/Ah7ybpCW5AEjAAAADwGfFWpCvwIDbW2GerIBKwAAABNBmxpJqEFsmUwId//+qZYAAJWBAAAADEGfOEUVLC//AACygQAAAA8Bn1d0Qr8CHvJukJbkASMAAAAPAZ9ZakK/AgNtbYZ6sgErAAAAHEGbXkmoQWyZTAh3//6plgLlyS+6zdqFkKXCJ0wAAAAQQZ98RRUsL/8Bh++lcEEVMQAAAA8Bn5t0Qr8CCxhAZJZQsoEAAAAQAZ+dakK/AgrXznWeODJtwAAAABJBm4JJqEFsmUwIb//+p4QAAScAAAAMQZ+gRRUsL/8AALKBAAAADwGf33RCvwFRtHdHbfCpFwAAAA8Bn8FqQr8BUVGiC1Hl0d0AAAASQZvGSahBbJlMCGf//p4QAAR8AAAADEGf5EUVLC//AACygQAAABABngN0Qr8B+iAOfv4HIdfBAAAADwGeBWpCvwFRUaILUeXR3QAAABpBmglLqEIQWyRGCCgH8gH9h4AhX/44QAARcQAAACdBnidFFSwr/wKvY+1BxN2qw0km5Z9z3yKvfEhhwsC09yvDhLYLTJgAAAAiAZ5IakK/Aq9j7UHE3arDSSbloCD1kLhFycIl5FZ6Wz3iYAAAC/Btb292AAAAbG12aGQAAAAAAAAAAAAAAAAAAAPoAAAfkAABAAABAAAAAAAAAAAAAAAAAQAAAAAAAAAAAAAAAAAAAAEAAAAAAAAAAAAAAAAAAEAAAAAAAAAAAAAAAAAAAAAAAAAAAAAAAAAAAAAAAAACAAALGnRyYWsAAABcdGtoZAAAAAMAAAAAAAAAAAAAAAEAAAAAAAAfkAAAAAAAAAAAAAAAAAAAAAAAAQAAAAAAAAAAAAAAAAAAAAEAAAAAAAAAAAAAAAAAAEAAAAABEAAAARAAAAAAACRlZHRzAAAAHGVsc3QAAAAAAAAAAQAAH5AAAAQAAAEAAAAACpJtZGlhAAAAIG1kaGQAAAAAAAAAAAAAAAAAADIAAAGUAFXEAAAAAAAtaGRscgAAAAAAAAAAdmlkZQAAAAAAAAAAAAAAAFZpZGVvSGFuZGxlcgAAAAo9bWluZgAAABR2bWhkAAAAAQAAAAAAAAAAAAAAJGRpbmYAAAAcZHJlZgAAAAAAAAABAAAADHVybCAAAAABAAAJ/XN0YmwAAACVc3RzZAAAAAAAAAABAAAAhWF2YzEAAAAAAAAAAQAAAAAAAAAAAAAAAAAAAAABEAEQAEgAAABIAAAAAAAAAAEAAAAAAAAAAAAAAAAAAAAAAAAAAAAAAAAAAAAAAAAAAAAY//8AAAAvYXZjQwH0AA3/4QAXZ/QADZGbKCIR0IAAAAMAgAAAGQeKFMsBAAVo6+PESAAAABhzdHRzAAAAAAAAAAEAAADKAAACAAAAABRzdHNzAAAAAAAAAAEAAAABAAAFyGN0dHMAAAAAAAAAtwAAAAEAAAQAAAAAAQAACgAAAAABAAAEAAAAAAEAAAAAAAAAAQAAAgAAAAABAAAKAAAAAAEAAAQAAAAAAQAAAAAAAAABAAACAAAAAAEAAAoAAAAAAQAABAAAAAABAAAAAAAAAAEAAAIAAAAAAQAACgAAAAABAAAEAAAAAAEAAAAAAAAAAQAAAgAAAAABAAAKAAAAAAEAAAQAAAAAAQAAAAAAAAABAAACAAAAAAEAAAoAAAAAAQAABAAAAAABAAAAAAAAAAEAAAIAAAAAAQAACgAAAAABAAAEAAAAAAEAAAAAAAAAAQAAAgAAAAABAAAKAAAAAAEAAAQAAAAAAQAAAAAAAAABAAACAAAAAAEAAAoAAAAAAQAABAAAAAABAAAAAAAAAAEAAAIAAAAAAQAACgAAAAABAAAEAAAAAAEAAAAAAAAAAQAAAgAAAAABAAAIAAAAAAIAAAIAAAAAAQAACgAAAAABAAAEAAAAAAEAAAAAAAAAAQAAAgAAAAABAAAEAAAAAAEAAAoAAAAAAQAABAAAAAABAAAAAAAAAAEAAAIAAAAAAQAABgAAAAABAAACAAAAAAEAAAYAAAAAAQAAAgAAAAABAAAKAAAAAAEAAAQAAAAAAQAAAAAAAAABAAACAAAAAAEAAAgAAAAAAgAAAgAAAAABAAAEAAAAAAEAAAYAAAAAAQAAAgAAAAAEAAAEAAAAAAEAAAYAAAAAAQAAAgAAAAAFAAAEAAAAAAEAAAoAAAAAAQAABAAAAAABAAAAAAAAAAEAAAIAAAAAAQAACgAAAAABAAAEAAAAAAEAAAAAAAAAAQAAAgAAAAABAAAIAAAAAAIAAAIAAAAAAQAACgAAAAABAAAEAAAAAAEAAAAAAAAAAQAAAgAAAAABAAAKAAAAAAEAAAQAAAAAAQAAAAAAAAABAAACAAAAAAEAAAgAAAAAAgAAAgAAAAAEAAAEAAAAAAEAAAoAAAAAAQAABAAAAAABAAAAAAAAAAEAAAIAAAAAAQAACgAAAAABAAAEAAAAAAEAAAAAAAAAAQAAAgAAAAABAAAKAAAAAAEAAAQAAAAAAQAAAAAAAAABAAACAAAAAAEAAAgAAAAAAgAAAgAAAAACAAAEAAAAAAEAAAgAAAAAAgAAAgAAAAABAAAGAAAAAAEAAAIAAAAAAQAACgAAAAABAAAEAAAAAAEAAAAAAAAAAQAAAgAAAAABAAAKAAAAAAEAAAQAAAAAAQAAAAAAAAABAAACAAAAAAEAAAYAAAAAAQAAAgAAAAABAAAGAAAAAAEAAAIAAAAAAQAABgAAAAABAAACAAAAAAEAAAYAAAAAAQAAAgAAAAABAAAGAAAAAAEAAAIAAAAAAQAABgAAAAABAAACAAAAAAEAAAYAAAAAAQAAAgAAAAABAAAGAAAAAAEAAAIAAAAAAQAABgAAAAABAAACAAAAAAEAAAYAAAAAAQAAAgAAAAABAAAGAAAAAAEAAAIAAAAAAQAACgAAAAABAAAEAAAAAAEAAAAAAAAAAQAAAgAAAAABAAAKAAAAAAEAAAQAAAAAAQAAAAAAAAABAAACAAAAAAEAAAoAAAAAAQAABAAAAAABAAAAAAAAAAEAAAIAAAAAAQAACgAAAAABAAAEAAAAAAEAAAAAAAAAAQAAAgAAAAABAAAIAAAAAAIAAAIAAAAAAQAACgAAAAABAAAEAAAAAAEAAAAAAAAAAQAAAgAAAAABAAAKAAAAAAEAAAQAAAAAAQAAAAAAAAABAAACAAAAAAEAAAoAAAAAAQAABAAAAAABAAAAAAAAAAEAAAIAAAAAAQAACgAAAAABAAAEAAAAAAEAAAAAAAAAAQAAAgAAAAABAAAKAAAAAAEAAAQAAAAAAQAAAAAAAAABAAACAAAAAAEAAAoAAAAAAQAABAAAAAABAAAAAAAAAAEAAAIAAAAAAQAACAAAAAACAAACAAAAABxzdHNjAAAAAAAAAAEAAAABAAAAygAAAAEAAAM8c3RzegAAAAAAAAAAAAAAygAABcIAAAAVAAAAEAAAABQAAAAUAAAAFwAAABAAAAAUAAAAFAAAABcAAAAQAAAAFAAAABQAAAAXAAAAEAAAABQAAAAUAAAAFwAAABAAAAAUAAAAFAAAABcAAAAQAAAAFAAAABQAAAAXAAAAEAAAABQAAAAUAAAAFwAAABAAAAAUAAAAFAAAABcAAAAQAAAAFAAAABQAAAAXAAAAEAAAABQAAAATAAAAHgAAABYAAAAUAAAALAAAABkAAAAUAAAAEwAAAB0AAAAbAAAAEgAAABQAAAAUAAAAFgAAABQAAAAWAAAAFAAAACMAAAAZAAAAFAAAABMAAAAjAAAAFgAAABQAAAAdAAAAIQAAABQAAAAfAAAAGwAAABwAAAAcAAAAIQAAABQAAAAcAAAAHAAAAB0AAAAdAAAAHQAAABwAAAAUAAAAEwAAABQAAAAXAAAAEAAAABMAAAATAAAAIAAAABYAAAATAAAAGwAAABUAAAAUAAAAFAAAABYAAAAUAAAAFAAAABQAAAAcAAAAEwAAABMAAAAdAAAAHwAAABwAAAAcAAAAJQAAABUAAAATAAAAFAAAABcAAAAQAAAAEwAAABMAAAAWAAAAEAAAABMAAAATAAAAHwAAABMAAAARAAAAIAAAABwAAAAcAAAAEwAAABMAAAAfAAAAFAAAABYAAAAQAAAAEwAAABMAAAArAAAAGQAAABMAAAAUAAAAFwAAABMAAAAWAAAAFAAAABYAAAAUAAAAFgAAABQAAAAWAAAAFAAAABYAAAAUAAAAFgAAABQAAAAWAAAAFAAAABYAAAAUAAAAFwAAABQAAAAiAAAAFAAAABYAAAAQAAAAFQAAABUAAAAXAAAAEAAAABUAAAAVAAAAFwAAABAAAAAVAAAAFQAAABcAAAAQAAAAFQAAABUAAAAfAAAAEwAAABEAAAAXAAAAFwAAABQAAAATAAAAFwAAABAAAAATAAAAEwAAABcAAAAQAAAAEwAAABMAAAAgAAAAFAAAABMAAAAUAAAAFgAAABAAAAATAAAAEwAAABYAAAAQAAAAFAAAABMAAAAeAAAAKwAAACYAAAAUc3RjbwAAAAAAAAABAAAAMAAAAGJ1ZHRhAAAAWm1ldGEAAAAAAAAAIWhkbHIAAAAAAAAAAG1kaXJhcHBsAAAAAAAAAAAAAAAALWlsc3QAAAAlqXRvbwAAAB1kYXRhAAAAAQAAAABMYXZmNTguMjkuMTAw\" type=\"video/mp4\" />\n",
       "             </video>"
      ],
      "text/plain": [
       "<IPython.core.display.HTML object>"
      ]
     },
     "execution_count": 15,
     "metadata": {},
     "output_type": "execute_result"
    }
   ],
   "source": [
    "env = Environment(grid_size=size, max_time=T, temperature=0.3)\n",
    "agent = DQN_FC(size, lr=.001, epsilon = 0.1, memory_size=2000, batch_size = 32)\n",
    "train(agent, env, epochs_train, prefix='fc_train')\n",
    "HTML(display_videos('fc_train{}.mp4'.format(epochs_train-1)))"
   ]
  },
  {
   "cell_type": "markdown",
   "metadata": {},
   "source": [
    "***\n",
    "***\n",
    "__Question 8__ Implement the DQN training algorithm using a CNN (for example, 2 convolutional layers and one final fully connected layer)."
   ]
  },
  {
   "cell_type": "code",
   "execution_count": 16,
   "metadata": {},
   "outputs": [],
   "source": [
    "class DQN_CNN(DQN):\n",
    "    def __init__(self, *args,lr=0.1,**kwargs):\n",
    "        super(DQN_CNN, self).__init__(*args,**kwargs)\n",
    "        \n",
    "        ###### FILL IN\n",
    "        \n",
    "        inp = Input(shape=(5, 5, self.n_state))\n",
    "        x = Conv2D(16, (3, 3), activation='relu')(inp)\n",
    "        x = Conv2D(16, (3, 3), activation='relu')(x)\n",
    "        x = Flatten()(x)\n",
    "        x = Dense(4, activation=\"linear\")(x) \n",
    "\n",
    "        model = Model(inputs=inp, outputs=x)\n",
    "        model.compile(adam(lr=lr, decay=1e-4), \"mse\")\n",
    "        self.model = model\n"
   ]
  },
  {
   "cell_type": "code",
   "execution_count": 17,
   "metadata": {},
   "outputs": [
    {
     "name": "stdout",
     "output_type": "stream",
     "text": [
      "Epoch 000/021 | Loss 0.0016 | Win/lose count 2.5/5.0 (-2.5)\n",
      "Epoch 001/021 | Loss 0.0147 | Win/lose count 6.0/3.0 (3.0)\n",
      "Epoch 002/021 | Loss 0.0647 | Win/lose count 9.5/4.0 (5.5)\n",
      "Epoch 003/021 | Loss 0.0039 | Win/lose count 4.5/5.0 (-0.5)\n",
      "Epoch 004/021 | Loss 0.0624 | Win/lose count 4.0/2.0 (2.0)\n",
      "Epoch 005/021 | Loss 0.0028 | Win/lose count 3.0/3.0 (0.0)\n",
      "Epoch 006/021 | Loss 0.0613 | Win/lose count 7.5/2.0 (5.5)\n",
      "Epoch 007/021 | Loss 0.0079 | Win/lose count 5.5/6.0 (-0.5)\n",
      "Epoch 008/021 | Loss 0.0019 | Win/lose count 9.5/4.0 (5.5)\n",
      "Epoch 009/021 | Loss 0.0017 | Win/lose count 10.0/3.0 (7.0)\n",
      "Epoch 010/021 | Loss 0.0013 | Win/lose count 9.5/2.0 (7.5)\n",
      "Epoch 011/021 | Loss 0.0012 | Win/lose count 7.0/4.0 (3.0)\n",
      "Epoch 012/021 | Loss 0.0036 | Win/lose count 4.5/2.0 (2.5)\n",
      "Epoch 013/021 | Loss 0.0642 | Win/lose count 7.5/4.0 (3.5)\n",
      "Epoch 014/021 | Loss 0.0756 | Win/lose count 6.5/4.0 (2.5)\n",
      "Epoch 015/021 | Loss 0.0492 | Win/lose count 7.5/2.0 (5.5)\n",
      "Epoch 016/021 | Loss 0.0003 | Win/lose count 0.5/2.0 (-1.5)\n",
      "Epoch 017/021 | Loss 0.0020 | Win/lose count 4.0/3.0 (1.0)\n",
      "Epoch 018/021 | Loss 0.0025 | Win/lose count 11.0/4.0 (7.0)\n",
      "Epoch 019/021 | Loss 0.0013 | Win/lose count 6.0/5.0 (1.0)\n",
      "Epoch 020/021 | Loss 0.0016 | Win/lose count 5.5/1.0 (4.5)\n"
     ]
    }
   ],
   "source": [
    "epochs_train=21 # set small when debugging\n",
    "epochs_test=11 # set small when debugging\n",
    "\n",
    "env = Environment(grid_size=size, max_time=T, temperature=0.3)\n",
    "agent = DQN_CNN(size, lr=.001, epsilon = 0.1, memory_size=2000, batch_size = 32)\n",
    "train(agent,env,epochs_train,prefix='cnn_train')\n"
   ]
  },
  {
   "cell_type": "code",
   "execution_count": 18,
   "metadata": {},
   "outputs": [
    {
     "data": {
      "text/html": [
       "<video alt=\"test\" controls>\n",
       "                <source src=\"data:video/mp4;base64,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\" type=\"video/mp4\" />\n",
       "             </video>"
      ],
      "text/plain": [
       "<IPython.core.display.HTML object>"
      ]
     },
     "execution_count": 18,
     "metadata": {},
     "output_type": "execute_result"
    }
   ],
   "source": [
    "HTML(display_videos('cnn_train{}.mp4'.format(20)))"
   ]
  },
  {
   "cell_type": "markdown",
   "metadata": {},
   "source": [
    "***\n",
    "***\n",
    "__Question 9__ Test both algorithms and compare their performances. Which issue(s) do you observe? Observe also different behaviors by changing the temperature."
   ]
  },
  {
   "cell_type": "code",
   "execution_count": 19,
   "metadata": {},
   "outputs": [
    {
     "name": "stdout",
     "output_type": "stream",
     "text": [
      "Test of the CNN\n",
      "Win/lose count 7.0/2.0. Average score (10.0)\n",
      "Win/lose count 6.0/1.0. Average score (10.0)\n",
      "Win/lose count 3.5/3.0. Average score (7.0)\n",
      "Win/lose count 3.5/6.0. Average score (4.0)\n",
      "Win/lose count 14.5/2.0. Average score (8.2)\n",
      "Win/lose count 7.5/1.0. Average score (9.0)\n",
      "Win/lose count 8.0/1.0. Average score (9.714285714285714)\n",
      "Win/lose count 5.5/3.0. Average score (9.125)\n",
      "Win/lose count 12.0/5.0. Average score (9.666666666666666)\n",
      "Win/lose count 8.0/4.0. Average score (9.5)\n",
      "Win/lose count 7.0/5.0. Average score (9.0)\n",
      "Final score: 9.0\n",
      "Test of the FC\n",
      "Win/lose count 7.5/7.0. Average score (1.0)\n",
      "Win/lose count 6.5/2.0. Average score (5.0)\n",
      "Win/lose count 1.0/1.0. Average score (3.3333333333333335)\n",
      "Win/lose count 4.0/5.0. Average score (2.0)\n",
      "Win/lose count 5.0/6.0. Average score (1.2)\n",
      "Win/lose count 2.5/2.0. Average score (1.1666666666666667)\n",
      "Win/lose count 2.5/1.0. Average score (1.4285714285714286)\n",
      "Win/lose count 2.5/3.0. Average score (1.125)\n",
      "Win/lose count 7.5/2.0. Average score (2.2222222222222223)\n",
      "Win/lose count 8.0/3.0. Average score (3.0)\n",
      "Win/lose count 10.5/2.0. Average score (4.2727272727272725)\n",
      "Final score: 4.2727272727272725\n"
     ]
    }
   ],
   "source": [
    "env = Environment(grid_size=size, max_time=T,temperature=0.3)\n",
    "agent_cnn = DQN_CNN(size, lr=.001, epsilon = 0.1, memory_size=2000, batch_size = 32)\n",
    "agent_cnn.load(name_weights='cnn_trainmodel.h5',name_model='cnn_trainmodel.json')\n",
    "\n",
    "agent_fc = DQN_FC(size, lr=.001, epsilon = 0.1, memory_size=2000, batch_size = 32)\n",
    "agent_cnn.load(name_weights='fc_trainmodel.h5',name_model='fc_trainmodel.json')\n",
    "\n",
    "print('Test of the CNN')\n",
    "test(agent_cnn,env,epochs_test,prefix='cnn_test')\n",
    "\n",
    "print('Test of the FC')\n",
    "test(agent_fc,env,epochs_test,prefix='fc_test')"
   ]
  },
  {
   "cell_type": "code",
   "execution_count": 20,
   "metadata": {},
   "outputs": [
    {
     "name": "stdout",
     "output_type": "stream",
     "text": [
      "Test of the CNN\n",
      "Win/lose count 15.0/3.0. Average score (24.0)\n",
      "Win/lose count 21.0/3.0. Average score (30.0)\n",
      "Win/lose count 16.5/6.0. Average score (27.0)\n",
      "Win/lose count 27.0/4.0. Average score (31.75)\n",
      "Win/lose count 12.5/0. Average score (30.4)\n",
      "Win/lose count 17.0/4.0. Average score (29.666666666666668)\n",
      "Win/lose count 20.0/3.0. Average score (30.285714285714285)\n",
      "Win/lose count 11.0/3.0. Average score (28.5)\n",
      "Win/lose count 34.5/0. Average score (33.0)\n",
      "Win/lose count 18.0/4.0. Average score (32.5)\n",
      "Win/lose count 7.5/2.0. Average score (30.545454545454547)\n",
      "Final score: 30.545454545454547\n",
      "Test of the FC\n",
      "Win/lose count 5.0/4.0. Average score (2.0)\n",
      "Win/lose count 6.5/3.0. Average score (4.5)\n",
      "Win/lose count 8.0/2.0. Average score (7.0)\n",
      "Win/lose count 10.5/2.0. Average score (9.5)\n",
      "Win/lose count 12.0/2.0. Average score (11.6)\n",
      "Win/lose count 11.0/3.0. Average score (12.333333333333334)\n",
      "Win/lose count 10.0/6.0. Average score (11.714285714285714)\n",
      "Win/lose count 12.5/3.0. Average score (12.625)\n",
      "Win/lose count 8.5/6.0. Average score (11.777777777777779)\n",
      "Win/lose count 10.0/5.0. Average score (11.6)\n",
      "Win/lose count 14.0/3.0. Average score (12.545454545454545)\n",
      "Final score: 12.545454545454545\n"
     ]
    }
   ],
   "source": [
    "env = Environment(grid_size=size, max_time=T,temperature=0.7)\n",
    "agent_cnn = DQN_CNN(size, lr=.001, epsilon = 0.1, memory_size=2000, batch_size = 32)\n",
    "agent_cnn.load(name_weights='cnn_trainmodel.h5',name_model='cnn_trainmodel.json')\n",
    "\n",
    "agent_fc = DQN_FC(size, lr=.001, epsilon = 0.1, memory_size=2000, batch_size = 32)\n",
    "agent_cnn.load(name_weights='fc_trainmodel.h5',name_model='fc_trainmodel.json')\n",
    "\n",
    "print('Test of the CNN')\n",
    "test(agent_cnn,env,epochs_test,prefix='cnn_test')\n",
    "\n",
    "print('Test of the FC')\n",
    "test(agent_fc,env,epochs_test,prefix='fc_test')"
   ]
  },
  {
   "cell_type": "code",
   "execution_count": 21,
   "metadata": {},
   "outputs": [
    {
     "data": {
      "text/html": [
       "<video alt=\"test\" controls>\n",
       "                <source src=\"data:video/mp4;base64,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\" type=\"video/mp4\" />\n",
       "             </video>"
      ],
      "text/plain": [
       "<IPython.core.display.HTML object>"
      ]
     },
     "execution_count": 21,
     "metadata": {},
     "output_type": "execute_result"
    }
   ],
   "source": [
    "HTML(display_videos('cnn_test{}.mp4'.format(epochs_test -1)))"
   ]
  },
  {
   "cell_type": "code",
   "execution_count": 22,
   "metadata": {},
   "outputs": [
    {
     "data": {
      "text/html": [
       "<video alt=\"test\" controls>\n",
       "                <source src=\"data:video/mp4;base64,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\" type=\"video/mp4\" />\n",
       "             </video>"
      ],
      "text/plain": [
       "<IPython.core.display.HTML object>"
      ]
     },
     "execution_count": 22,
     "metadata": {},
     "output_type": "execute_result"
    }
   ],
   "source": [
    "HTML(display_videos('fc_test10.mp4'.format(epochs_test -1)))"
   ]
  },
  {
   "cell_type": "markdown",
   "metadata": {},
   "source": [
    "We get better performance with the CNN-based model."
   ]
  },
  {
   "cell_type": "markdown",
   "metadata": {},
   "source": [
    "***\n",
    "\n",
    "The algorithm tends to not explore the map which can be an issue. We propose two ideas in order to encourage exploration:\n",
    "1. Incorporating a decreasing $\\epsilon$-greedy exploration. You can use the method ```set_epsilon```\n",
    "2. Append via the environment a new state that describes if a cell has been visited or not\n",
    "\n",
    "***\n",
    "__Question 10__ Design a new ```train_explore``` function and environment class ```EnvironmentExploring``` to tackle the issue of exploration.\n",
    "\n"
   ]
  },
  {
   "cell_type": "code",
   "execution_count": 23,
   "metadata": {},
   "outputs": [],
   "source": [
    "def greedy_epsilon(e, epochs, e_min = 0.05, bend_rate = 0.3):\n",
    "    if e/epochs <  bend_rate:\n",
    "        return e_min + (bend_rate - e/epochs) * (1 - e_min)\n",
    "    else:\n",
    "        return e_min\n",
    "\n",
    "def train_explore(agent,env,epoch,prefix='train_explore'):\n",
    "    # Number of won games\n",
    "    score = 0\n",
    "    loss = 0\n",
    "\n",
    "    for e in range(epoch):\n",
    "        # At each epoch, we restart to a fresh game and get the initial state\n",
    "        state = env.reset()\n",
    "        # This assumes that the games will terminate\n",
    "        game_over = False\n",
    "\n",
    "        \n",
    "        \n",
    "        # This is the only part we change from the original train funciton\n",
    "        eps = greedy_epsilon(e, epoch)\n",
    "        agent.set_epsilon(eps)\n",
    "\n",
    "        \n",
    "        win = 0\n",
    "        lose = 0\n",
    "        \n",
    "        \n",
    "\n",
    "        while not game_over:\n",
    "            # The agent performs an action\n",
    "            action = agent.act(state)\n",
    "\n",
    "            # Apply an action to the environment, get the next state, the reward\n",
    "            # and if the games end\n",
    "            prev_state = state\n",
    "            state, reward, game_over = env.act(action)\n",
    "\n",
    "            # Update the counters\n",
    "            if reward > 0:\n",
    "                win = win + reward\n",
    "            if reward < 0:\n",
    "                lose = lose -reward\n",
    "\n",
    "            # Apply the reinforcement strategy\n",
    "            loss = agent.reinforce(prev_state, state,  action, reward, game_over)\n",
    "\n",
    "        # Save as a mp4\n",
    "        if e % 10 == 0 and e >0:\n",
    "            env.draw(prefix+str(e))\n",
    "\n",
    "        # Update stats\n",
    "        score += win-lose\n",
    "\n",
    "        print(\"Epoch {:03d}/{:03d} | Loss {:.4f} | Win/lose count {}/{} ({})\"\n",
    "              .format(e, epoch, loss, win, lose, win-lose))\n",
    "        agent.save(name_weights=prefix+'model.h5',name_model=prefix+'model.json')\n",
    "        \n",
    "class EnvironmentExploring(Environment):\n",
    "    def __init__(self, grid_size=10, max_time=500, temperature=0.1):\n",
    "        \n",
    "        Environment.__init__(self, grid_size=grid_size, max_time=max_time, temperature=temperature)\n",
    "        self.malus = np.zeros((self.grid_size, self.grid_size))\n",
    "        self.malus[self.x, self.y] = 0.1\n",
    "\n",
    "        \n",
    "    def reset(self):\n",
    "        state = Environment.reset(self)\n",
    "        self.malus = np.zeros(self.board.shape)\n",
    "        self.malus[self.x, self.y] = 0.1\n",
    "        malus =  self.malus[self.x-2:self.x+3, self.y-2:self.y+3, np.newaxis] # the rat can only see 2 cells away\n",
    "        state = np.concatenate((malus, state), axis=2) # stack\n",
    "\n",
    "        return state\n",
    "\n",
    "    \n",
    "    def act(self, action):\n",
    "        state, reward, game_over = Environment.act(self, action)\n",
    "        reward -= self.malus[self.x, self.y] # penalize if cell has already been visited\n",
    "        self.malus[self.x, self.y] = 0.1  # cell has been visited\n",
    "        malus =  self.malus[self.x-2:self.x+3, self.y-2:self.y+3, np.newaxis] # the rat can only see 2 cells away\n",
    "        state = np.concatenate((malus, state), axis=2) # concat\n",
    "\n",
    "        return state, reward, game_over"
   ]
  },
  {
   "cell_type": "code",
   "execution_count": 24,
   "metadata": {},
   "outputs": [
    {
     "name": "stdout",
     "output_type": "stream",
     "text": [
      "Epoch 000/021 | Loss 0.0642 | Win/lose count 10.5/22.200000000000042 (-11.700000000000042)\n",
      "Epoch 001/021 | Loss 0.0060 | Win/lose count 16.5/23.80000000000004 (-7.30000000000004)\n",
      "Epoch 002/021 | Loss 0.0024 | Win/lose count 11.5/17.69999999999999 (-6.199999999999989)\n",
      "Epoch 003/021 | Loss 0.0110 | Win/lose count 8.5/20.10000000000001 (-11.600000000000009)\n",
      "Epoch 004/021 | Loss 0.0176 | Win/lose count 12.0/18.499999999999982 (-6.499999999999982)\n",
      "Epoch 005/021 | Loss 0.0048 | Win/lose count 6.0/20.700000000000035 (-14.700000000000035)\n",
      "Epoch 006/021 | Loss 0.0033 | Win/lose count 6.0/19.90000000000001 (-13.90000000000001)\n",
      "Epoch 007/021 | Loss 0.0027 | Win/lose count 4.5/18.599999999999998 (-14.099999999999998)\n",
      "Epoch 008/021 | Loss 0.0047 | Win/lose count 8.5/18.09999999999999 (-9.59999999999999)\n",
      "Epoch 009/021 | Loss 0.0095 | Win/lose count 13.0/16.99999999999998 (-3.9999999999999787)\n",
      "Epoch 010/021 | Loss 0.0954 | Win/lose count 17.5/12.399999999999972 (5.100000000000028)\n",
      "Epoch 011/021 | Loss 0.0050 | Win/lose count 14.0/16.299999999999972 (-2.2999999999999723)\n",
      "Epoch 012/021 | Loss 0.0012 | Win/lose count 8.0/18.900000000000002 (-10.900000000000002)\n",
      "Epoch 013/021 | Loss 0.0114 | Win/lose count 15.0/17.09999999999998 (-2.09999999999998)\n",
      "Epoch 014/021 | Loss 0.0160 | Win/lose count 15.5/19.300000000000022 (-3.800000000000022)\n",
      "Epoch 015/021 | Loss 0.0146 | Win/lose count 18.5/15.399999999999968 (3.1000000000000316)\n",
      "Epoch 016/021 | Loss 0.0404 | Win/lose count 18.0/15.69999999999997 (2.300000000000029)\n",
      "Epoch 017/021 | Loss 0.0064 | Win/lose count 9.5/21.100000000000023 (-11.600000000000023)\n",
      "Epoch 018/021 | Loss 0.0073 | Win/lose count 17.5/11.699999999999974 (5.800000000000026)\n",
      "Epoch 019/021 | Loss 0.0025 | Win/lose count 10.5/20.300000000000022 (-9.800000000000022)\n",
      "Epoch 020/021 | Loss 0.0031 | Win/lose count 12.0/19.100000000000012 (-7.100000000000012)\n"
     ]
    },
    {
     "data": {
      "text/html": [
       "<video alt=\"test\" controls>\n",
       "                <source src=\"data:video/mp4;base64,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\" type=\"video/mp4\" />\n",
       "             </video>"
      ],
      "text/plain": [
       "<IPython.core.display.HTML object>"
      ]
     },
     "execution_count": 24,
     "metadata": {},
     "output_type": "execute_result"
    }
   ],
   "source": [
    "# Training\n",
    "env = EnvironmentExploring(grid_size=size, max_time=T, temperature=0.3)\n",
    "agent = DQN_CNN(size, lr=.001, epsilon = 0.1, memory_size=2000, batch_size = 32,n_state=3)\n",
    "train_explore(agent, env, epochs_train, prefix='cnn_train_explore')\n",
    "HTML(display_videos('cnn_train_explore{}.mp4'.format(epochs_train-1)))"
   ]
  },
  {
   "cell_type": "code",
   "execution_count": 25,
   "metadata": {},
   "outputs": [
    {
     "name": "stdout",
     "output_type": "stream",
     "text": [
      "Win/lose count 20.5/14.09999999999997. Average score (12.800000000000061)\n",
      "Win/lose count 20.0/16.099999999999966. Average score (10.300000000000065)\n",
      "Win/lose count 19.5/15.299999999999974. Average score (9.666666666666726)\n",
      "Win/lose count 13.5/17.199999999999967. Average score (5.400000000000061)\n",
      "Win/lose count 23.5/13.599999999999978. Average score (8.280000000000056)\n",
      "Win/lose count 19.5/16.699999999999985. Average score (7.833333333333385)\n",
      "Win/lose count 12.5/15.599999999999971. Average score (5.828571428571481)\n",
      "Win/lose count 20.0/12.699999999999976. Average score (6.925000000000052)\n",
      "Win/lose count 15.5/19.200000000000014. Average score (5.333333333333376)\n",
      "Win/lose count 26.5/17.699999999999974. Average score (6.560000000000043)\n",
      "Win/lose count 15.0/18.5. Average score (5.327272727272767)\n",
      "Final score: 5.327272727272767\n"
     ]
    },
    {
     "data": {
      "text/html": [
       "<video alt=\"test\" controls>\n",
       "                <source src=\"data:video/mp4;base64,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\" type=\"video/mp4\" />\n",
       "             </video>"
      ],
      "text/plain": [
       "<IPython.core.display.HTML object>"
      ]
     },
     "execution_count": 25,
     "metadata": {},
     "output_type": "execute_result"
    }
   ],
   "source": [
    "# Evaluation\n",
    "test(agent,env,epochs_test,prefix='cnn_test_explore')\n",
    "HTML(display_videos('cnn_test_explore{}.mp4'.format(epochs_test-1)))"
   ]
  },
  {
   "cell_type": "markdown",
   "metadata": {},
   "source": [
    "***\n",
    "***\n",
    "__BONUS question__ Use the expert DQN from the previous question to generate some winning games. Train a model that mimicks its behavior. Compare the performances."
   ]
  },
  {
   "cell_type": "markdown",
   "metadata": {},
   "source": []
  },
  {
   "cell_type": "markdown",
   "metadata": {},
   "source": [
    "***"
   ]
  }
 ],
 "metadata": {
  "kernelspec": {
   "display_name": "Python 3",
   "language": "python",
   "name": "python3"
  },
  "language_info": {
   "codemirror_mode": {
    "name": "ipython",
    "version": 3
   },
   "file_extension": ".py",
   "mimetype": "text/x-python",
   "name": "python",
   "nbconvert_exporter": "python",
   "pygments_lexer": "ipython3",
   "version": "3.7.4"
  }
 },
 "nbformat": 4,
 "nbformat_minor": 2
}
